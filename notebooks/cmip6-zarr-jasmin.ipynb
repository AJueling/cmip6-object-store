{
 "cells": [
  {
   "cell_type": "markdown",
   "metadata": {},
   "source": [
    "# Example usage of the CMIP6 Object Store on JASMIN\n",
    "\n",
    "## What is the CMIP6 Object Store on JASMIN?\n",
    "\n",
    "We have copied a subset of high-priority CMIP6 data from our NetCDF archive to our local Object Store on JASMIN. The files are stored in Zarr format instead of NetCDF.\n",
    "\n",
    "Users who are running on JASMIN (in SSH terminal or notebook environments) can read directly from the object store."
   ]
  },
  {
   "cell_type": "markdown",
   "metadata": {},
   "source": [
    "## Do you need any special libraries?\n",
    "\n",
    "Yes, you will need to install `s3fs` and `zarr`, which can be added via a virtual \n",
    "environment and `pip`."
   ]
  },
  {
   "cell_type": "code",
   "execution_count": 1,
   "metadata": {},
   "outputs": [],
   "source": [
    "# Import the required packages\n",
    "import virtualenv\n",
    "import pip\n",
    "import os\n",
    "\n",
    "# Define and create the base directory install virtual environments\n",
    "venvs_dir = os.path.join(os.path.expanduser(\"~\"), \"nb-venvs\")\n",
    "\n",
    "if not os.path.isdir(venvs_dir):\n",
    "    os.makedirs(venvs_dir)\n",
    "    \n",
    "# Define the venv directory\n",
    "venv_dir = os.path.join(venvs_dir, 'venv-notebook')"
   ]
  },
  {
   "cell_type": "code",
   "execution_count": 2,
   "metadata": {},
   "outputs": [],
   "source": [
    "# Create the virtual environment\n",
    "if not os.path.isdir(venv_dir):\n",
    "    virtualenv.create_environment(venv_dir)"
   ]
  },
  {
   "cell_type": "code",
   "execution_count": 3,
   "metadata": {},
   "outputs": [],
   "source": [
    "# Activate the venv\n",
    "activate_file = os.path.join(venv_dir, \"bin\", \"activate_this.py\")\n",
    "exec(open(activate_file).read(), dict(__file__=activate_file))"
   ]
  },
  {
   "cell_type": "code",
   "execution_count": 20,
   "metadata": {},
   "outputs": [
    {
     "name": "stderr",
     "output_type": "stream",
     "text": [
      "WARNING: pip is being invoked by an old script wrapper. This will fail in a future version of pip.\n",
      "Please see https://github.com/pypa/pip/issues/5599 for advice on fixing the underlying issue.\n",
      "To avoid this problem you can invoke Python with '-m pip' instead of running pip directly.\n"
     ]
    },
    {
     "name": "stdout",
     "output_type": "stream",
     "text": [
      "Collecting xarray\n",
      "  Using cached xarray-0.16.1-py3-none-any.whl (720 kB)\n",
      "Requirement already satisfied, skipping upgrade: numpy>=1.15 in /opt/jaspy/lib/python3.7/site-packages (from xarray) (1.15.4)\n",
      "Requirement already satisfied, skipping upgrade: pandas>=0.25 in /home/users/astephen/nb-venvs/venv-notebook/lib/python3.7/site-packages (from xarray) (1.1.2)\n",
      "Requirement already satisfied, skipping upgrade: setuptools>=38.4 in /home/users/astephen/nb-venvs/venv-notebook/lib/python3.7/site-packages (from xarray) (50.3.0)\n",
      "Requirement already satisfied, skipping upgrade: pytz>=2017.2 in /opt/jaspy/lib/python3.7/site-packages (from pandas>=0.25->xarray) (2018.7)\n",
      "Requirement already satisfied, skipping upgrade: python-dateutil>=2.7.3 in /opt/jaspy/lib/python3.7/site-packages (from pandas>=0.25->xarray) (2.7.5)\n",
      "Requirement already satisfied, skipping upgrade: six>=1.5 in /opt/jaspy/lib/python3.7/site-packages (from python-dateutil>=2.7.3->pandas>=0.25->xarray) (1.12.0)\n",
      "Installing collected packages: xarray\n",
      "  Attempting uninstall: xarray\n",
      "    Found existing installation: xarray 0.11.0\n"
     ]
    },
    {
     "name": "stderr",
     "output_type": "stream",
     "text": [
      "    WARNING: Could not access 'pyvenv.cfg' despite a virtual environment being active. Assuming global site-packages is not accessible in this environment.\n"
     ]
    },
    {
     "name": "stdout",
     "output_type": "stream",
     "text": [
      "    Not uninstalling xarray at /opt/jaspy/lib/python3.7/site-packages, outside environment /home/users/astephen/nb-venvs/venv-notebook\n",
      "    Can't uninstall 'xarray'. No files were found to uninstall.\n",
      "Successfully installed xarray-0.16.1\n"
     ]
    },
    {
     "name": "stderr",
     "output_type": "stream",
     "text": [
      "WARNING: You are using pip version 10.0.1; however, version 20.2.3 is available.\n",
      "You should consider upgrading via the '/opt/jaspy/bin/python -m pip install --upgrade pip' command.\n"
     ]
    },
    {
     "data": {
      "text/plain": [
       "0"
      ]
     },
     "execution_count": 20,
     "metadata": {},
     "output_type": "execute_result"
    }
   ],
   "source": [
    "# pip install a package using the venv as a prefix\n",
    "pip.main([\"install\", \"--prefix\", venv_dir, \"s3fs\"])\n",
    "pip.main([\"install\", \"--prefix\", venv_dir, \"zarr\"])\n",
    "pip.main([\"install\", \"--prefix\", venv_dir, \"--upgrade\", \"xarray\"])"
   ]
  },
  {
   "cell_type": "markdown",
   "metadata": {},
   "source": [
    "## How to read from the object store\n",
    "\n",
    "Let's start with a dataset in the archive, and map it to an object store URL."
   ]
  },
  {
   "cell_type": "code",
   "execution_count": 4,
   "metadata": {},
   "outputs": [
    {
     "name": "stdout",
     "output_type": "stream",
     "text": [
      "http://cmip6-zarr-o.s3.jc.rl.ac.uk/CMIP6.AerChemMIP.NIMS-KMA.UKESM1-0-LL/hist-piNTCF.r3i1p1f2.Amon.evspsbl.gn.v20200224.zarr\n"
     ]
    }
   ],
   "source": [
    "from urllib.parse import urlparse\n",
    "\n",
    "# In the CEDA archive we have:\n",
    "archive_path = (\"/badc/cmip6/data/CMIP6/AerChemMIP/NIMS-KMA/UKESM1-0-LL/\"\n",
    "                \"hist-piNTCF/r3i1p1f2/Amon/evspsbl/gn/v20200224\")\n",
    "\n",
    "# Work out the Zarr info from that:\n",
    "def map_archive_path(archive_path):\n",
    "    \"Returns zarr path, derived from archive path.\"\n",
    "    scheme = \"http://cmip6-zarr-o.s3.jc.rl.ac.uk\"\n",
    "    items = archive_path.replace(\"/badc/cmip6/data\", \"\").strip(\"/\").split(\"/\")\n",
    "    i_start = \".\".join(items[:4])\n",
    "    i_end = \".\".join(items[4:]) + \".zarr\"\n",
    "    \n",
    "    return f\"{scheme}/{i_start}/{i_end}\"\n",
    "\n",
    "zarr_url = map_archive_path(archive_path)\n",
    "print(zarr_url)"
   ]
  },
  {
   "cell_type": "code",
   "execution_count": 5,
   "metadata": {},
   "outputs": [],
   "source": [
    "# Get the components of the URL, and set variables\n",
    "url_comps = urlparse(zarr_url)\n",
    "endpoint = f\"{url_comps.scheme}://{url_comps.netloc}\"\n",
    "zarr_path = url_comps.path"
   ]
  },
  {
   "cell_type": "code",
   "execution_count": 6,
   "metadata": {},
   "outputs": [],
   "source": [
    "# Now set up an S3FileSystem object to connect to the Zarr Store\n",
    "import s3fs\n",
    "import xarray as xr\n",
    "\n",
    "jasmin_s3 = s3fs.S3FileSystem(anon=True, \n",
    "                              client_kwargs={\"endpoint_url\": endpoint})\n",
    "s3_store = s3fs.S3Map(root=zarr_path, s3=jasmin_s3)\n",
    "\n",
    "# And open the file directly with xarray\n",
    "ds = xr.open_zarr(store=s3_store, consolidated=True)"
   ]
  },
  {
   "cell_type": "markdown",
   "metadata": {},
   "source": [
    "And we can operate on the subset:"
   ]
  },
  {
   "cell_type": "code",
   "execution_count": 7,
   "metadata": {},
   "outputs": [
    {
     "name": "stdout",
     "output_type": "stream",
     "text": [
      "Subset shape: (1980, 144, 192)\n",
      "Min, max: -2.2633825210505165e-05, 0.00022682354028802365\n",
      "Units: kg m-2 s-1\n"
     ]
    }
   ],
   "source": [
    "variable = ds.evspsbl\n",
    "\n",
    "print(f'Subset shape: {variable.shape}')\n",
    "print(f'Min, max: {float(variable.min())}, {float(variable.max())}')\n",
    "print(f'Units: {variable.units}')"
   ]
  }
 ],
 "metadata": {
  "kernelspec": {
   "display_name": "Python 3 + Jaspy",
   "language": "python",
   "name": "jaspy"
  },
  "language_info": {
   "codemirror_mode": {
    "name": "ipython",
    "version": 3
   },
   "file_extension": ".py",
   "mimetype": "text/x-python",
   "name": "python",
   "nbconvert_exporter": "python",
   "pygments_lexer": "ipython3",
   "version": "3.7.1"
  }
 },
 "nbformat": 4,
 "nbformat_minor": 4
}
